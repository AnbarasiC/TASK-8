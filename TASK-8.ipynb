{
 "cells": [
  {
   "cell_type": "code",
   "execution_count": 1,
   "id": "a5007172",
   "metadata": {},
   "outputs": [
    {
     "name": "stdout",
     "output_type": "stream",
     "text": [
      "[10, 501, 22, 37, 100, 999, 87, 351]\n"
     ]
    }
   ],
   "source": [
    "# Using the python's Object Oriented Programming Scheme (OOPS) kindly complete the following tasks which is given as below- \n",
    "# 1) Create a Python Class called Circle with Constructor which will take\n",
    "# a List as an argument for the task. The List is [10, 501, 22, 37, 100, 999, 87, 351]\n",
    "\n",
    "class Circle:\n",
    "    def __init__(self, my_list):\n",
    "        self.my_list = my_list\n",
    "\n",
    "# Creating an instance of the Circle class with the given list\n",
    "my_circle = Circle([10, 501, 22, 37, 100, 999, 87, 351])\n",
    "\n",
    "# Accessing the list within the Circle object\n",
    "print(my_circle.my_list)"
   ]
  },
  {
   "cell_type": "code",
   "execution_count": 37,
   "id": "fac480bf",
   "metadata": {},
   "outputs": [
    {
     "name": "stdout",
     "output_type": "stream",
     "text": [
      "The area of the circle with radius 4 is 50.26\n"
     ]
    }
   ],
   "source": [
    "# Using the python's Object Oriented Programming Scheme (OOPS) kindly complete the following tasks which is given as below-\n",
    "# 2) Create proper member variables inside the task if required and use them when necessary. For example for this task \n",
    "# create a class private variable named pi = 3.141\n",
    "\n",
    "class Circle:\n",
    "    def __init__(self, radius):\n",
    "        self.pi = 3.141  # private variable pi\n",
    "        self.radius = radius\n",
    "\n",
    "    def calculate_area(self):\n",
    "        return self.pi * self.radius * self.radius\n",
    "    \n",
    "radius = 4\n",
    "\n",
    "# Creating an instance of the Circle class\n",
    "circle = Circle(radius)\n",
    "\n",
    "# Calculating and printing the area of the circle\n",
    "area = circle.calculate_area()\n",
    "print(f\"The area of the circle with radius {radius} is {area:.2f}\")"
   ]
  },
  {
   "cell_type": "code",
   "execution_count": 2,
   "id": "9669895a",
   "metadata": {},
   "outputs": [
    {
     "name": "stdout",
     "output_type": "stream",
     "text": [
      "The area of the shape is: 2107\n",
      "The perimeter of the shape is: 12440962701882000\n"
     ]
    }
   ],
   "source": [
    "# Using the python's Object Oriented Programming Scheme (OOPS) kindly complete the following tasks which is given as below-\n",
    "# 3) From the given List create two class Methods Area and Perimeter which will be going to calculate the Area and \n",
    "# Perimeter.\n",
    "\n",
    "class Shape:\n",
    "    def __init__(self, sides):\n",
    "        self.sides = sides\n",
    "\n",
    "    def area(self):\n",
    "        total = sum(self.sides)\n",
    "        return total\n",
    "\n",
    "    def perimeter(self):\n",
    "        product = 1\n",
    "        for side in self.sides:\n",
    "            product *= side\n",
    "        return product\n",
    "\n",
    "# Given list\n",
    "list = [10, 501, 22, 37, 100, 999, 87, 351]\n",
    "\n",
    "# Creating an instance of the Shape class\n",
    "shape = Shape(list)\n",
    "\n",
    "# Calculating and printing the area and perimeter of the shape\n",
    "area_output = shape.area()\n",
    "perimeter_output = shape.perimeter()\n",
    "\n",
    "print(f\"The area of the shape is: {area_output}\")\n",
    "print(f\"The perimeter of the shape is: {perimeter_output}\")"
   ]
  },
  {
   "cell_type": "code",
   "execution_count": 3,
   "id": "bd49b440",
   "metadata": {},
   "outputs": [
    {
     "name": "stdout",
     "output_type": "stream",
     "text": [
      "Panasonic at channel 1, volume 50\n",
      "Panasonic at channel 8, volume 52\n",
      "Panasonic at channel 1, volume 50\n"
     ]
    }
   ],
   "source": [
    "\"\"\"4) Using the python's Object Oriented Programming Scheme (OOPS) kindly complete the following tasks which is given as below-\n",
    "TV class\n",
    "TVClass - Base class\n",
    "LedTV class\n",
    "PlasmaTV class\n",
    "Part - A\n",
    "\n",
    "Create a TV class with properties like brand, channel , price , inches , OnOFF status and volume. Specify brand in \n",
    "a constructor parameter. Channel should be 1 by default. Volume should be 50 by default.\n",
    "Add methods to increase and decrease volume. Volume can't never be below 0 or above 100.\n",
    "Add a method to set the channel. Let's say the TV has only 50 channels so if you try to set channel 60 the TV will \n",
    "stay at the current channel.\n",
    "Add a method to reset TV so it goes back to channel 1 and volume 50. (Hint: consider using it from the constructor).\n",
    "It's useful to write a status that returns info about the TV status like: \"Panasonic at channel 8, volume 75\".\"\"\"\n",
    "\n",
    "class TV:\n",
    "    def __init__(self, brand, price, inches, OnOFF_status, channel=1, volume=50):\n",
    "        self.brand = brand\n",
    "        self.channel = channel if 1 <= channel <= 50 else 1\n",
    "        self.price = price\n",
    "        self.inches = inches\n",
    "        self.OnOFF_status = OnOFF_status\n",
    "        self.volume = min(max(volume, 0), 100)\n",
    "\n",
    "    def inc_vol(self):\n",
    "        if self.volume < 100:\n",
    "            self.volume += 1\n",
    "\n",
    "    def dec_vol(self):\n",
    "        if self.volume > 0:\n",
    "            self.volume -= 1\n",
    "\n",
    "    def set_channel(self, channel):\n",
    "        if 1 <= channel <= 50:\n",
    "            self.channel = channel\n",
    "\n",
    "    def reset_tv(self):\n",
    "        self.channel = 1\n",
    "        self.volume = 50\n",
    "\n",
    "    def status(self):\n",
    "        return f\"{self.brand} at channel {self.channel}, volume {self.volume}\"\n",
    "\n",
    "s_tv = TV(\"Panasonic\", 500, 42, True)\n",
    "print(s_tv.status())  # Panasonic at channel 1, volume 50\n",
    "\n",
    "s_tv.inc_vol()\n",
    "s_tv.inc_vol()\n",
    "s_tv.inc_vol()\n",
    "s_tv.dec_vol()\n",
    "s_tv.set_channel(8)\n",
    "print(s_tv.status())  # Panasonic at channel 8, volume 52\n",
    "\n",
    "s_tv.reset_tv()\n",
    "print(s_tv.status())  # Panasonic at channel 1, volume 50"
   ]
  },
  {
   "cell_type": "code",
   "execution_count": 4,
   "id": "638db31c",
   "metadata": {},
   "outputs": [
    {
     "name": "stdout",
     "output_type": "stream",
     "text": [
      "Panasonic at channel 1, volume 50\n",
      "This TV offers a viewing angle of 178 degrees.\n",
      "The TV employs LED backlighting technology.\n",
      "Screen thickness: 10mm, Energy usage: 200W, Lifespan: 10 years, Refresh rate: 120Hz.\n"
     ]
    }
   ],
   "source": [
    "\"\"\"4) Using the python's Object Oriented Programming Scheme (OOPS) kindly complete the following tasks which is given as below-\n",
    "TV class\n",
    "TVClass - Base class\n",
    "LedTV class\n",
    "PlasmaTV class\n",
    "Part - B : LED , Plasma\n",
    "\n",
    "Inherit a TV class add additional properties like screen thickness, energy usage , Lifespan , Refresh rate , \n",
    "functionalities like viewingAngle , Backlight, DisplayDetails , which displays the detailed features of the TV.\"\"\"\n",
    "\n",
    "class SmartTV(TV):\n",
    "    def __init__(self, brand, price, inches, OnOFF_status, screen_thickness, energy_usage, lifespan, refresh_rate):\n",
    "        super().__init__(brand, price, inches, OnOFF_status)\n",
    "        self.screen_thickness = screen_thickness\n",
    "        self.energy_usage = energy_usage\n",
    "        self.lifespan = lifespan\n",
    "        self.refresh_rate = refresh_rate\n",
    "\n",
    "    def viewing_angle(self, angle):\n",
    "        return f\"This TV offers a viewing angle of {angle} degrees.\"\n",
    "\n",
    "    def backlight(self, backlight_type):\n",
    "        return f\"The TV employs {backlight_type} backlighting technology.\"\n",
    "\n",
    "    def display_details(self):\n",
    "        return f\"Screen thickness: {self.screen_thickness}mm, Energy usage: {self.energy_usage}W, Lifespan: {self.lifespan} years, Refresh rate: {self.refresh_rate}Hz.\"\n",
    "\n",
    "smart_tv = SmartTV(\"Panasonic\", 1000, 55, True, 10, 200, 10, 120)\n",
    "print(smart_tv.status())  # Panasonic at channel 1, volume 50\n",
    "print(smart_tv.viewing_angle(178))  # This TV has a viewing angle of 178 degrees.\n",
    "print(smart_tv.backlight(\"LED\"))  # The TV uses LED backlight technology.\n",
    "print(smart_tv.display_details())  # Screen thickness: 10mm, Energy usage: 200W, Lifespan: 10 years, Refresh rate: 120Hz."
   ]
  }
 ],
 "metadata": {
  "kernelspec": {
   "display_name": "Python 3 (ipykernel)",
   "language": "python",
   "name": "python3"
  },
  "language_info": {
   "codemirror_mode": {
    "name": "ipython",
    "version": 3
   },
   "file_extension": ".py",
   "mimetype": "text/x-python",
   "name": "python",
   "nbconvert_exporter": "python",
   "pygments_lexer": "ipython3",
   "version": "3.11.4"
  }
 },
 "nbformat": 4,
 "nbformat_minor": 5
}
